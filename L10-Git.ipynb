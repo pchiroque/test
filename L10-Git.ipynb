{
 "cells": [
  {
   "cell_type": "raw",
   "metadata": {},
   "source": [
    "---\n",
    "title: \"GIT\"\n",
    "author: \"Pamela Solano\"\n",
    "format: \n",
    "  beamer:\n",
    "    theme: Boadilla\n",
    "editor: visual\n",
    "---"
   ]
  },
  {
   "cell_type": "markdown",
   "metadata": {
    "tags": []
   },
   "source": [
    "## Goals\n",
    "\n",
    "This note should be give you the **introduction** to perform basic\n",
    "\n",
    "<br>\n",
    "\n",
    "**distributed revision control** for\n",
    "\n",
    "<br>\n",
    "\n",
    "**your own/team projects**.\n",
    "\n",
    "\n",
    "## Target\n",
    "\n",
    "-   No experience in *Version Control*\n",
    "\n",
    "\n",
    "<br>\n",
    "\n",
    "\n",
    "-   Version control system but not *GIT*\n",
    "\n",
    "\n",
    "<br>\n",
    "\n",
    "\n",
    "-   *GIT GUI*'s users (visual tools) not *command-line*.\n",
    "\n",
    "## Your job and daily task\n",
    "\n",
    "-   Software developer\n",
    "-   Designer\n",
    "-   Someone who writes code\n",
    "\n",
    "your task\n",
    "\n",
    "-   *Create* things\n",
    "-   *Save* things\n",
    "-   *Edit* things (correction-request of modification)\n",
    "-   Save the thing *again* and *again*\n",
    "\n",
    "## Personal changes\n",
    "\n",
    "![](images/GIT-only-you-HT.png)\n",
    "\n",
    "\n",
    "## Team work\n",
    "\n",
    "![](images/GIT-Collaborative-HT.png)\n",
    "\n",
    "## Non-Sequential Overlaping\n",
    "\n",
    "![](images/GIT-Overlap-Collaborate.png)\n",
    "\n",
    "## Track modifications \n",
    "\n",
    "When-Why-What-Who are the goals *VERSION CONTROL*\n",
    "\n",
    "## Why GIT? \n",
    "\n",
    "-   GIT is a fast and modern\n",
    "\n",
    "    -   implementation of *version control*\n",
    "\n",
    "-   GIT provides a *history* of content changes\n",
    "\n",
    "-   Individual bases, tracking each file's content piece (graphics design, programs and code)\n",
    "\n",
    "## Why GIT? continuation\n",
    "\n",
    "-   GIT facilitates **collaborative changes** to files.\n",
    "\n",
    "-   Not just one person bringing modification and for all the team at the same time.\n",
    "\n",
    "-   People simultaneous change files, working at the same time about an idea.\n",
    "\n",
    "-   GIT is easy to use for \n",
    "    - any type of knowledge worker. \n",
    "\n",
    "\n",
    "## Types of version control\n",
    "\n",
    "What is the difference between *CENTRAL* and *DISTRIBUTED* Version Control System.\n",
    "\n",
    "## Without GIT: SVN\n",
    "\n",
    "![](images/GIT-centralCS.png)\n",
    "\n",
    "## GIT\n",
    "\n",
    "![](images/GIT-DistributedCS.png)\n",
    "\n",
    "## GIT as **Version control**\n",
    "\n",
    "-   Local GIT\n",
    "    - Simple commands.\n",
    "    \n",
    "-   *Distributed* \n",
    "    - Connectivity not required\n",
    "    - Simple software\n",
    "    \n",
    "-   *Easy* $\\rightarrow$ commands can be learnt *progressively*.\n",
    "\n",
    "## Summary\n",
    "\n",
    "with GIT you have a way **how to track** your/team project progress.\n",
    "\n",
    "<br>\n",
    "\n",
    "To fully understand the depth and power of Git you need to understand two simple ideas (LOCAL-REMOTE).\n",
    "\n",
    "## Get going with git\n",
    "\n",
    "-   How to install \n",
    "\n",
    "<br>\n",
    "\n",
    "-   Setup\n",
    "\n",
    "<br>\n",
    "\n",
    "-   Configure\n",
    "\n",
    "<br>\n",
    "\n",
    "-   Make your first use of the command line\n",
    "\n",
    "## Installing GIT\n",
    "\n",
    "Official GIT's homepage\n",
    "\n",
    "<https://git-scm.com/>\n",
    "\n",
    "## Opening GIT\n",
    "\n",
    "**GIT Bash**\n"
   ]
  },
  {
   "cell_type": "code",
   "execution_count": null,
   "metadata": {},
   "outputs": [],
   "source": [
    "check version\n",
    "\n",
    "$ git --version\n"
   ]
  },
  {
   "cell_type": "markdown",
   "metadata": {},
   "source": [
    "## Configuration\n",
    "\n",
    "-   Configure your *username* and *email*\n",
    "\n"
   ]
  },
  {
   "cell_type": "code",
   "execution_count": null,
   "metadata": {},
   "outputs": [],
   "source": [
    "$ git config --global user.name \"Ana Devops\"\n",
    "\n",
    "$ git config --global user.email \"anadevops\\@gmail.com\"\n"
   ]
  },
  {
   "cell_type": "markdown",
   "metadata": {},
   "source": [
    "## Help"
   ]
  },
  {
   "cell_type": "code",
   "execution_count": null,
   "metadata": {},
   "outputs": [],
   "source": [
    "$ git help config\n",
    "$ git config --help\n"
   ]
  },
  {
   "cell_type": "markdown",
   "metadata": {},
   "source": [
    "- Google is your friend\n",
    "\n",
    "## Example\n",
    "\n",
    "Developer Ana :\n",
    "\n",
    "-   She is working on her new project in a file called clients.txt\n",
    "\n",
    "## Creating a new repository\n"
   ]
  },
  {
   "cell_type": "code",
   "execution_count": null,
   "metadata": {},
   "outputs": [],
   "source": [
    "$ git init project\n"
   ]
  },
  {
   "cell_type": "markdown",
   "metadata": {},
   "source": [
    "- If the directory exists use only\n"
   ]
  },
  {
   "cell_type": "code",
   "execution_count": null,
   "metadata": {},
   "outputs": [],
   "source": [
    "$ git init \n",
    "\n",
    "$ cd project\n"
   ]
  },
  {
   "cell_type": "markdown",
   "metadata": {},
   "source": [
    "## In your Git Bash\n",
    "\n",
    "![](images/GIT-G1.png)\n",
    "\n",
    "\n",
    "## Git workflow\n",
    "\n",
    "![](images/GIT-workflow-new.png)\n",
    "\n",
    "## Tracking-Staged *git add*\n",
    "\n",
    "Start tracking using **git add** command. \n",
    "<br>\n",
    "\n",
    "*git add* tells Git that you want to include updates to a particular file in the next commit.\n",
    "<br>\n",
    "\n",
    "after *git add* this file is ready to be committed\n",
    "\n",
    "\n",
    "## In your Git Bash\n",
    "\n",
    "![](images/GIT-G2.png)\n",
    "\n",
    "\n",
    "## unTracking - unstage clients.txt\n",
    "\n"
   ]
  },
  {
   "cell_type": "code",
   "execution_count": null,
   "metadata": {},
   "outputs": [],
   "source": [
    "\n",
    "$ git add clients.txt\n",
    "\n",
    "$ git status\n",
    "\n",
    "$ git rm --cached clients.txt\n",
    "\n",
    "$ git restore --staged clients.txt\n",
    "\n",
    "$ git status\n",
    "\n"
   ]
  },
  {
   "cell_type": "markdown",
   "metadata": {},
   "source": [
    "## In your Git Bash\n",
    "\n",
    "![](images/GIT-G3.png)\n",
    "\n",
    "## Making changes\n",
    "\n",
    "![](images/GIT-G4.png)\n",
    "\n",
    "## Commit command\n",
    "\n",
    "Remember: put in stage area with add before commit\n",
    "\n"
   ]
  },
  {
   "cell_type": "code",
   "execution_count": null,
   "metadata": {},
   "outputs": [],
   "source": [
    "$ git add clients.txt\n",
    "\n",
    "$ git commit -m \"first commit\"\n"
   ]
  },
  {
   "cell_type": "markdown",
   "metadata": {},
   "source": [
    "\n",
    "Commit is the keyword that permanently logs changes.\n",
    "\n",
    "<br>\n",
    "\n",
    "Note: git add adds your modified files to the queue to be committed later. Files are not committed.\n",
    "\n",
    "<br>\n",
    "\n",
    "**git commit** commits the files that have been added and creates a new revision with a log. It step is associated with a unique identifier.\n",
    "\n",
    "## In your Git Bash\n",
    "![](images/GIT-G5.png)\n",
    "\n",
    "\n",
    "## Exercise\n",
    "\n",
    "- Make 3 commits \n",
    "\n",
    "- Use \\$ git diff to see differences when relevant\n",
    "\n",
    "## In your Git Bash\n",
    "![](images/GIT-G6.png)\n",
    "\n",
    "## In your Git Bash\n",
    "![](images/GIT-G7.png)\n",
    "\n",
    "\n",
    "## Return to the previous commit\n",
    "\n"
   ]
  },
  {
   "cell_type": "code",
   "execution_count": null,
   "metadata": {},
   "outputs": [],
   "source": [
    "$ git log --oneline\n",
    "\n",
    "$ git revert ID\n"
   ]
  },
  {
   "cell_type": "raw",
   "metadata": {},
   "source": [
    "\n",
    "write :qa! (VIM's command )\n"
   ]
  },
  {
   "cell_type": "code",
   "execution_count": null,
   "metadata": {},
   "outputs": [],
   "source": [
    "\n",
    "$ git log --oneline\n"
   ]
  },
  {
   "cell_type": "markdown",
   "metadata": {},
   "source": [
    "\n",
    "## In your Git Bash\n",
    "![](images/GIT-G8.png)\n",
    "\n",
    "## File Clients.txt\n",
    "![](images/GIT-G9.png)\n",
    "\n",
    "## Our objective\n",
    "\n",
    "![](images/GIT-Merge.png)\n",
    "\n",
    "\n",
    "## Branches\n",
    "\n",
    "A **Branch** is a version of your repository. An independent line of development.\n"
   ]
  },
  {
   "cell_type": "code",
   "execution_count": null,
   "metadata": {},
   "outputs": [],
   "source": [
    "$ git branch potential"
   ]
  },
  {
   "cell_type": "raw",
   "metadata": {},
   "source": [
    "\n",
    "into branch potential: checkout\n"
   ]
  },
  {
   "cell_type": "code",
   "execution_count": null,
   "metadata": {},
   "outputs": [],
   "source": [
    "\n",
    "$ git checkout potential\n",
    "\n",
    "$ git branch -l\n"
   ]
  },
  {
   "cell_type": "markdown",
   "metadata": {},
   "source": [
    "## In your Git Bash\n",
    "![](images/GIT-G10.png)\n",
    "\n",
    "\n",
    "## Changes in Clients.txt\n",
    "![](images/GIT-G11.png)\n",
    "\n",
    "\n",
    "## In your Git Bash\n",
    "![](images/GIT-G12.png)\n",
    "\n",
    "\n",
    "## Branch vs Master\n",
    "\n",
    "Make changes"
   ]
  },
  {
   "cell_type": "code",
   "execution_count": null,
   "metadata": {},
   "outputs": [],
   "source": [
    "$ git add .\n",
    "$ git commit -m \"potential clients\"\n"
   ]
  },
  {
   "cell_type": "raw",
   "metadata": {},
   "source": [
    "Master branch still old version\n"
   ]
  },
  {
   "cell_type": "code",
   "execution_count": null,
   "metadata": {},
   "outputs": [],
   "source": [
    "$ git checkout master\n"
   ]
  },
  {
   "cell_type": "markdown",
   "metadata": {},
   "source": [
    "\n",
    "## In your Git Bash\n",
    "![](images/GIT-G13.png)\n",
    "\n",
    "## File Clients.txt in MASTER\n",
    "![](images/GIT-G9.png)\n",
    "\n",
    "\n",
    "## Merge branches\n",
    "\n",
    "-   Put the changes from **potential** into **master**\n"
   ]
  },
  {
   "cell_type": "code",
   "execution_count": null,
   "metadata": {},
   "outputs": [],
   "source": [
    "$ git checkout master\n",
    "\n",
    "$ git merge potential\n"
   ]
  },
  {
   "cell_type": "markdown",
   "metadata": {},
   "source": [
    "## In your Git Bash\n",
    "![](images/GIT-G14.png)\n",
    "\n",
    "\n",
    "## Deleting potential branch\n"
   ]
  },
  {
   "cell_type": "code",
   "execution_count": null,
   "metadata": {},
   "outputs": [],
   "source": [
    "$ git branch -d potential\n",
    "\n",
    "$ git branch -l\n"
   ]
  },
  {
   "cell_type": "markdown",
   "metadata": {},
   "source": [
    "\n",
    "\n",
    "## In your Git Bash\n",
    "![](images/GIT-G15.png)\n",
    "\n",
    "\n",
    "\n",
    "## Webservices\n",
    "\n",
    "**REMOTE repositories**\n",
    "\n",
    "![](images/GIT-Hub-Lab.png)\n",
    "\n",
    "\n",
    "## REMOTE repository\n",
    "\n",
    "*GitHub* - *GitLab* your free WEBSERVICES\n",
    "\n",
    "Commit all your changes and **push** your **branch** to REMOTE.\n",
    "\n",
    "**git push** pushes your changes to the remote repository.\n",
    "\n"
   ]
  },
  {
   "cell_type": "code",
   "execution_count": null,
   "metadata": {},
   "outputs": [],
   "source": [
    "$ git remote add origin URL\n",
    "$ git push -u origin master\n"
   ]
  },
  {
   "cell_type": "markdown",
   "metadata": {},
   "source": [
    "\n",
    "## GIT workflow details\n",
    "\n",
    "![](images/GIT-Routine.png)\n",
    "\n",
    "\n",
    "## Tracking an existing remote project\n"
   ]
  },
  {
   "cell_type": "code",
   "execution_count": null,
   "metadata": {},
   "outputs": [],
   "source": [
    "$ git clone URL\n"
   ]
  },
  {
   "cell_type": "markdown",
   "metadata": {},
   "source": [
    "\n",
    "Command that clones all the files from the repository and includes in my working directory\n",
    "\n",
    "- The **url** from GitLab or GitHub\n",
    "\n",
    "## Tracking: Cloned project\n",
    "\n",
    "-   Make changes in the code:\n",
    "    -   add, commit, diff, status\n",
    "-   **Push**\n",
    "\n",
    "*REMEMBER*: Multiple developers\n",
    "\n",
    "**PULL** any changes that have been made since the last time that we cloned the repository\n"
   ]
  },
  {
   "cell_type": "code",
   "execution_count": null,
   "metadata": {},
   "outputs": [],
   "source": [
    "$ git pull origin master\n",
    "$ git push origin master\n"
   ]
  },
  {
   "cell_type": "markdown",
   "metadata": {},
   "source": [
    "\n",
    "\n",
    "## In your Git Bash\n",
    "![](images/GIT-G17.png)\n",
    "\n",
    "\n",
    "## In your Git Bash\n",
    "![](images/GIT-G16.png)\n",
    "\n",
    "\n",
    "## Common commands\n"
   ]
  },
  {
   "cell_type": "code",
   "execution_count": null,
   "metadata": {},
   "outputs": [],
   "source": [
    "\n",
    "$ git branch DOTHIS\n",
    "\n",
    "$ git checkout DOTHIS\n"
   ]
  },
  {
   "cell_type": "raw",
   "metadata": {},
   "source": [
    "-   make modifications\n"
   ]
  },
  {
   "cell_type": "code",
   "execution_count": null,
   "metadata": {},
   "outputs": [],
   "source": [
    "$ git add . \n",
    "$ git commit -m \"changes\" \n",
    "\n",
    "$ git checkout master\n",
    "\n",
    "$ git pull origin master\n",
    "\n",
    "$ git merge DOTHIS\n",
    "\n",
    "$ git push origin <branch>\n",
    "\n",
    "$ git branch -d DOTHIS\n"
   ]
  },
  {
   "cell_type": "markdown",
   "metadata": {},
   "source": [
    "## Wins-Benefits with GIT\n",
    "\n",
    "- Focus on content.\n",
    "\n",
    "- OPT in, not OPT-OUT:\n",
    "GIT's idea of the staging area.\n",
    "\n",
    "- OPEN, not LOCKED, let people make contibution, **open source** project,\n",
    "free.\n",
    "\n",
    "- DISTRIBUTED, not centralized.\n",
    "\n",
    "- Exchange of code. \n",
    "WEBSERVICES like **GitHub** or **GitLab**.\n",
    "\n",
    "- Focus on the PEOPLE, NOT TOOLS\n",
    "\n",
    "- JOURNAL, NOT BACKUP.\n",
    "Version control system - historical changes\n",
    "\n",
    "- ANYWHERE, NOT JUST ONLINE:\n",
    "GIT works entirely **OFFLINE** mode\n",
    "\n"
   ]
  },
  {
   "cell_type": "markdown",
   "metadata": {},
   "source": [
    "## Exercises\n",
    "\n",
    "Explore commands\n",
    "\n",
    "-   \\$ git fetch\n",
    "-   What is difference between git fetch and git pull?\n",
    "\n"
   ]
  },
  {
   "cell_type": "markdown",
   "metadata": {},
   "source": [
    "## Aditional Documentation\n",
    "\n",
    "<https://git-scm.com/>\n",
    "\n",
    "<https://education.github.com/git-cheat-sheet-education.pdf>. <https://about.gitlab.com/images/press/git-cheat-sheet.pdf>\n",
    "\n",
    "<https://ndpsoftware.com/git-cheatsheet.html>\n",
    "\n",
    "<br>\n",
    "\n",
    "## References\n",
    "\n",
    "**Pro Git book**, written by Scott Chacon and Ben Straub. 2014.\n",
    "\n",
    "<br>\n",
    "\n",
    "<https://git-scm.com/book/en/v2>\n",
    "\n"
   ]
  }
 ],
 "metadata": {
  "kernelspec": {
   "display_name": "Python 3 (ipykernel)",
   "language": "python",
   "name": "python3"
  },
  "language_info": {
   "codemirror_mode": {
    "name": "ipython",
    "version": 3
   },
   "file_extension": ".py",
   "mimetype": "text/x-python",
   "name": "python",
   "nbconvert_exporter": "python",
   "pygments_lexer": "ipython3",
   "version": "3.10.9"
  }
 },
 "nbformat": 4,
 "nbformat_minor": 4
}
