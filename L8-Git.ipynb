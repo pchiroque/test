{
 "cells": [
  {
   "cell_type": "raw",
   "metadata": {},
   "source": [
    "---\n",
    "title: \"GIT\"\n",
    "author: \"Pamela Solano\"\n",
    "format: \n",
    "  beamer:\n",
    "    theme: Boadilla\n",
    "editor: visual\n",
    "---"
   ]
  },
  {
   "cell_type": "markdown",
   "metadata": {},
   "source": [
    "## Goals\n",
    "\n",
    "This note should be give you the **introduction** to perform basic\n",
    "\n",
    "<br>\n",
    "\n",
    "**distributed revision control** for\n",
    "\n",
    "<br>\n",
    "\n",
    "**your own/team projects**.\n",
    "\n",
    "\n",
    "## Target\n",
    "\n",
    "-   No experience in *Version Control*\n",
    "\n",
    "\n",
    "<br>\n",
    "\n",
    "\n",
    "-   Version control system but not *GIT*\n",
    "\n",
    "\n",
    "<br>\n",
    "\n",
    "\n",
    "-   *GIT GUI*'s users (visual tools) not *command-line*.\n",
    "\n",
    "## Your job and daily task\n",
    "\n",
    "-   Software developer\n",
    "-   Designer\n",
    "-   Someone who writes code\n",
    "\n",
    "your task\n",
    "\n",
    "-   *Create* things\n",
    "-   *Save* things\n",
    "-   *Edit* things (correction-request of modification)\n",
    "-   Save the thing *again* and *again*\n",
    "\n",
    "## Personal changes\n",
    "\n",
    "![](images/only-you-HT.png)\n",
    "\n",
    "## Team work\n",
    "\n",
    "![](images/Collaborative-HT.png)\n",
    "\n",
    "## Non-Sequential Overlaping\n",
    "\n",
    "![](images/Overlap-Collaborate.png)\n",
    "\n",
    "## Track modifications \n",
    "\n",
    "When-Why-What-Who are the goals *VERSION CONTROL*\n",
    "\n",
    "## Why GIT? \n",
    "\n",
    "-   GIT is a fast and modern\n",
    "\n",
    "    -   implementation of *version control*\n",
    "\n",
    "-   GIT provides a *history* of content changes\n",
    "\n",
    "-   Individual bases, tracking each file's content piece (graphics design, programs and code)\n",
    "\n",
    "## Why GIT? continuation\n",
    "\n",
    "-   GIT facilitates **collaborative changes** to files.\n",
    "\n",
    "-   Not just one person bringing modification and for all the team at the same time.\n",
    "\n",
    "-   People simultaneous change files, working at the same time about an idea.\n",
    "\n",
    "-   GIT is easy to use for \n",
    "    - any type of knowledge worker. \n",
    "\n",
    "\n",
    "## Types of version control\n",
    "\n",
    "What is the difference between *CENTRAL* and \n",
    "\n",
    "\n",
    "<br>\n",
    "\n",
    "\n",
    "*DISTRIBUTED* Version Control System.\n",
    "\n",
    "## Without GIT: SVN\n",
    "\n",
    "![](images/centralCS.png)\n",
    "\n",
    "## GIT\n",
    "\n",
    "![](images/DistributedCS.png){width=\"50%\" fig-align=\"center\"}\n",
    "\n",
    "## GIT\n",
    "\n",
    "**Version control**\n",
    "\n",
    "-   Local GIT\n",
    "    - Simple commands.\n",
    "    \n",
    "-   *Distributed* \n",
    "    - Connectivity not required\n",
    "    - Simple software\n",
    "    \n",
    "-   *Easy* $\\rightarrow$ commands can be learnt *progressively*.\n",
    "\n",
    "## Summary\n",
    "\n",
    "::: callout-important\n",
    "with GIT you have a way **how to track** your/team project progress\n",
    ":::\n",
    "\n",
    "::: callout-tip\n",
    "To fully understand the depth and power of Git you need to understand two simple ideas (LOCAL-REMOTE).\n",
    ":::\n",
    "\n",
    "## Get going with git\n",
    "\n",
    "-   How to install \n",
    "\n",
    "<br>\n",
    "\n",
    "-   Setup\n",
    "\n",
    "<br>\n",
    "\n",
    "-   Configure\n",
    "\n",
    "<br>\n",
    "\n",
    "-   Make your first use of the command line\n",
    "\n",
    "## Installing GIT\n",
    "\n",
    "Official GIT's homepage\n",
    "\n",
    "<https://git-scm.com/>\n",
    "\n",
    "## Opening GIT\n",
    "\n",
    "::: callout-important\n",
    "GIT Bash\n",
    ":::"
   ]
  },
  {
   "cell_type": "code",
   "execution_count": null,
   "metadata": {},
   "outputs": [],
   "source": [
    "check version\n",
    "\n",
    "$ git --version\n"
   ]
  },
  {
   "cell_type": "markdown",
   "metadata": {},
   "source": [
    "## Configuration\n",
    "\n",
    "-   Configure your *username* and *email*\n",
    "\n"
   ]
  },
  {
   "cell_type": "code",
   "execution_count": null,
   "metadata": {},
   "outputs": [],
   "source": [
    "\\$ git config --global user.name \"Ana Devops\"\n",
    "\n",
    "\\$ git config - -global user.email \"anadevops\\@gmail.com\"\n"
   ]
  },
  {
   "cell_type": "markdown",
   "metadata": {},
   "source": [
    "## Help"
   ]
  },
  {
   "cell_type": "code",
   "execution_count": null,
   "metadata": {},
   "outputs": [],
   "source": [
    "\\$ git help config\n",
    "\\$ git config - -help\n"
   ]
  },
  {
   "cell_type": "markdown",
   "metadata": {},
   "source": [
    "- Google is your friend\n",
    "\n",
    "## Example\n",
    "\n",
    "Developer Ana :\n",
    "\n",
    "-   She is working on her new project in a file called clients.txt\n",
    "\n",
    "## Creating a new repository\n"
   ]
  },
  {
   "cell_type": "code",
   "execution_count": null,
   "metadata": {},
   "outputs": [],
   "source": [
    "\\$ git init project\n"
   ]
  },
  {
   "cell_type": "markdown",
   "metadata": {},
   "source": [
    "- If the directory exists use only\n"
   ]
  },
  {
   "cell_type": "code",
   "execution_count": null,
   "metadata": {},
   "outputs": [],
   "source": [
    "\\$ git init \n",
    "\n",
    "\\$ cd project\n"
   ]
  },
  {
   "cell_type": "markdown",
   "metadata": {},
   "source": [
    "## In your Git Bash\n",
    "\n",
    "![](images/G1.png){width=\"100%\" fig-align=\"center\"}\n",
    "\n",
    "\n",
    "## Git workflow\n",
    "\n",
    "![](images/git-workflow1.png){width=\"90%\" fig-align=\"center\"}\n",
    "\n",
    "## Tracking-Staged clients.txt\n",
    "\n",
    "Start tracking *holding zone*. Zone ready to be committed\n",
    "\n",
    "In color *green*\n",
    "\n",
    "## In your Git Bash\n",
    "\n",
    "![](images/G2.png){width=\"100%\" fig-align=\"center\"}\n",
    "\n",
    "\n",
    "## unTracking - unstage clients.txt\n",
    "\n"
   ]
  },
  {
   "cell_type": "code",
   "execution_count": null,
   "metadata": {},
   "outputs": [],
   "source": [
    "\n",
    "\\$ git add clients.txt\n",
    "\n",
    "\\$ git status\n",
    "\n",
    "- \\$ git rm --cached clients.txt\n",
    "\n",
    "- \\$ git restore - -staged clients.txt\n",
    "\n",
    "\\$ git status\n",
    "\n",
    "In color *red*\n"
   ]
  },
  {
   "cell_type": "markdown",
   "metadata": {},
   "source": [
    "## In your Git Bash\n",
    "\n",
    "![](images/G3.png){width=\"100%\" fig-align=\"center\"}\n",
    "\n",
    "## Making changes\n",
    "\n",
    "![](images/G4.png){width=\"100%\" fig-align=\"center\"}\n",
    "\n",
    "## Commit command\n",
    "\n",
    "Remember: put in stage area with add before commit\n",
    "\n"
   ]
  },
  {
   "cell_type": "code",
   "execution_count": null,
   "metadata": {},
   "outputs": [],
   "source": [
    "\\$ git add clients.txt\n",
    "\n",
    "\\$ git commit -m \"first commit\"\n"
   ]
  },
  {
   "cell_type": "markdown",
   "metadata": {},
   "source": [
    "\n",
    "Commit is the keyword that permanently logs changes\n",
    "\n",
    "## In your Git Bash\n",
    "![](images/G5.png){width=\"100%\" fig-align=\"center\"}\n",
    "\n",
    "\n",
    "## Exercise\n",
    "\n",
    "- Make 3 commits \n",
    "\n",
    "- Use \\$ git diff to see differences when relevant\n",
    "\n",
    "## In your Git Bash\n",
    "![](images/G6.png){width=\"100%\" fig-align=\"center\"}\n",
    "\n",
    "## In your Git Bash\n",
    "![](images/G7.png){width=\"100%\" fig-align=\"center\"}\n",
    "\n",
    "\n",
    "## Return to the previous commit\n",
    "\n"
   ]
  },
  {
   "cell_type": "code",
   "execution_count": null,
   "metadata": {},
   "outputs": [],
   "source": [
    "\\$ git log - - oneline\n",
    "\n",
    "\\$ git revert ID\n"
   ]
  },
  {
   "cell_type": "raw",
   "metadata": {},
   "source": [
    "\n",
    "write :qa! (VIM's command )\n"
   ]
  },
  {
   "cell_type": "code",
   "execution_count": null,
   "metadata": {},
   "outputs": [],
   "source": [
    "\n",
    "\\$ git log -- oneline\n"
   ]
  },
  {
   "cell_type": "markdown",
   "metadata": {},
   "source": [
    "\n",
    "## In your Git Bash\n",
    "![](images/G8.png){width=\"100%\" fig-align=\"center\"}\n",
    "\n",
    "## File Clients.txt\n",
    "![](images/G9.png){width=\"100%\" fig-align=\"center\"}\n",
    "\n",
    "## Our objective\n",
    "\n",
    "![](images/git-merge.png){fig-align=\"center\"}\n",
    "\n",
    "\n",
    "## Branches\n",
    "\n",
    "A **Branch** is a version of your repository. An independent line of development.\n"
   ]
  },
  {
   "cell_type": "code",
   "execution_count": null,
   "metadata": {},
   "outputs": [],
   "source": [
    "\\$ git branch potential"
   ]
  },
  {
   "cell_type": "raw",
   "metadata": {},
   "source": [
    "\n",
    "into branch potential: checkout\n"
   ]
  },
  {
   "cell_type": "code",
   "execution_count": null,
   "metadata": {},
   "outputs": [],
   "source": [
    "\n",
    "\\$ git checkout potential\n",
    "\n",
    "\\$ git branch -l\n"
   ]
  },
  {
   "cell_type": "markdown",
   "metadata": {},
   "source": [
    "## In your Git Bash\n",
    "![](images/G10.png){width=\"100%\" fig-align=\"center\"}\n",
    "\n",
    "\n",
    "## Changes in Clients.txt\n",
    "![](images/G11.png){width=\"100%\" fig-align=\"center\"}\n",
    "\n",
    "\n",
    "## In your Git Bash\n",
    "![](images/G12.png){width=\"90%\" fig-align=\"center\"}\n",
    "\n",
    "\n",
    "## Branch vs Master\n",
    "\n",
    "Make changes"
   ]
  },
  {
   "cell_type": "code",
   "execution_count": null,
   "metadata": {},
   "outputs": [],
   "source": [
    "\\$ git add .\n",
    "\\$git commit -m \"potential clients\"\n"
   ]
  },
  {
   "cell_type": "raw",
   "metadata": {},
   "source": [
    "Master branch still old version\n"
   ]
  },
  {
   "cell_type": "code",
   "execution_count": null,
   "metadata": {},
   "outputs": [],
   "source": [
    "\\$ git checkout master\n"
   ]
  },
  {
   "cell_type": "markdown",
   "metadata": {},
   "source": [
    "\n",
    "## In your Git Bash\n",
    "![](images/G13.png){width=\"90%\" fig-align=\"center\"}\n",
    "\n",
    "## File Clients.txt in MASTER\n",
    "![](images/G9.png){width=\"100%\" fig-align=\"center\"}\n",
    "\n",
    "\n",
    "## Merge branches\n",
    "\n",
    "-   Put the changes from **potential** into **master**\n"
   ]
  },
  {
   "cell_type": "code",
   "execution_count": null,
   "metadata": {},
   "outputs": [],
   "source": [
    "\\$ git checkout master\n",
    "\n",
    "\\$ git merge potential\n"
   ]
  },
  {
   "cell_type": "markdown",
   "metadata": {},
   "source": [
    "## In your Git Bash\n",
    "![](images/G14.png){width=\"100%\" fig-align=\"center\"}\n",
    "\n",
    "\n",
    "## Deleting potential branch\n"
   ]
  },
  {
   "cell_type": "code",
   "execution_count": null,
   "metadata": {},
   "outputs": [],
   "source": [
    "\\$ git branch -d potential\n",
    "\n",
    "\\$ git branch -l\n"
   ]
  },
  {
   "cell_type": "markdown",
   "metadata": {},
   "source": [
    "\n",
    "\n",
    "## In your Git Bash\n",
    "![](images/G15.png){width=\"100%\" fig-align=\"center\"}\n",
    "\n",
    "\n",
    "\n",
    "## Webservices\n",
    "\n",
    "**REMOTE repositories**\n",
    "\n",
    "![](images/gits.png){width=\"90%\" fig-align=\"center\"}\n",
    "\n",
    "\n",
    "## REMOTE repository\n",
    "\n",
    "*GitHub* - *GitLab* your free WEBSERVICES\n",
    "\n",
    "Commit all your changes and **push** your **branch** to REMOTE\n",
    "\n"
   ]
  },
  {
   "cell_type": "code",
   "execution_count": null,
   "metadata": {},
   "outputs": [],
   "source": [
    "\\$ git remote add origin URL\n",
    "\\$ git push -u origin master\n"
   ]
  },
  {
   "cell_type": "markdown",
   "metadata": {},
   "source": [
    "\n",
    "## GIT workflow details\n",
    "\n",
    "![](images/git-workflow.png){width=\"90%\" fig-align=\"center\"}\n",
    "\n",
    "\n",
    "## Tracking an existing remote project\n"
   ]
  },
  {
   "cell_type": "code",
   "execution_count": null,
   "metadata": {},
   "outputs": [],
   "source": [
    "\\$ git clone URL\n"
   ]
  },
  {
   "cell_type": "markdown",
   "metadata": {},
   "source": [
    "\n",
    "Command that clones all the files from the repository and includes in my working directory\n",
    "\n",
    "- The **url** from GitLab or GitHub\n",
    "\n",
    "## Tracking: Cloned project\n",
    "\n",
    "-   Make changes in the code:\n",
    "    -   add, commit, diff, status\n",
    "-   **Push**\n",
    "\n",
    "*REMEMBER*: Multiple developers\n",
    "\n",
    "**PULL** any changes that have been made since the last time that we cloned the repository\n"
   ]
  },
  {
   "cell_type": "code",
   "execution_count": null,
   "metadata": {},
   "outputs": [],
   "source": [
    "\\$ git pull origin master\n",
    "\\$ git push origin master\n"
   ]
  },
  {
   "cell_type": "markdown",
   "metadata": {},
   "source": [
    "\n",
    "\n",
    "## In your Git Bash\n",
    "![](images/G17.png){width=\"100%\" fig-align=\"center\"}\n",
    "\n",
    "\n",
    "## In your Git Bash\n",
    "![](images/G16.png){width=\"100%\" fig-align=\"center\"}\n",
    "\n",
    "\n",
    "## Common commands\n"
   ]
  },
  {
   "cell_type": "code",
   "execution_count": null,
   "metadata": {},
   "outputs": [],
   "source": [
    "\n",
    "\\$ git branch DOTHIS\n",
    "\n",
    "\\$ git checkout DOTHIS\n"
   ]
  },
  {
   "cell_type": "raw",
   "metadata": {},
   "source": [
    "-   make modifications\n"
   ]
  },
  {
   "cell_type": "code",
   "execution_count": null,
   "metadata": {},
   "outputs": [],
   "source": [
    "\\$ git add . \n",
    "\\$ git commit -m \"changes\" \n",
    "\n",
    "\\$ git checkout master\n",
    "\n",
    "\\$ git pull origin master\n",
    "\n",
    "\\$ git merge DOTHIS\n",
    "\n",
    "\\$ git push origin <branch>\n",
    "\n",
    "\\$ git branch -d DOTHIS\n"
   ]
  },
  {
   "cell_type": "markdown",
   "metadata": {},
   "source": [
    "## Wins-Benefits with GIT\n",
    "\n",
    "- Focus on content.\n",
    "\n",
    "- OPT in, not OPT-OUT:\n",
    "GIT's idea of the staging area.\n",
    "\n",
    "- OPEN, not LOCKED, let people make contibution, **open source** project,\n",
    "free.\n",
    "\n",
    "- DISTRIBUTED, not centralized.\n",
    "\n",
    "- Exchange of code. \n",
    "WEBSERVICES like **GitHub** or **GitLab**.\n",
    "\n",
    "- Focus on the PEOPLE, NOT TOOLS\n",
    "\n",
    "- JOURNAL, NOT BACKUP.\n",
    "Version control system - historical changes\n",
    "\n",
    "- ANYWHERE, NOT JUST ONLINE:\n",
    "GIT works entirely **OFFLINE** mode\n",
    "\n"
   ]
  },
  {
   "cell_type": "markdown",
   "metadata": {},
   "source": [
    "## Exercises\n",
    "\n",
    "Explore commands\n",
    "\n",
    "-   \\$ git fetch\n",
    "-   What is difference between git fetch and git pull?\n",
    "\n"
   ]
  },
  {
   "cell_type": "markdown",
   "metadata": {},
   "source": [
    "## Aditional Documentation\n",
    "\n",
    "<https://git-scm.com/>\n",
    "\n",
    "<https://education.github.com/git-cheat-sheet-education.pdf>. <https://about.gitlab.com/images/press/git-cheat-sheet.pdf>\n",
    "\n",
    "<https://ndpsoftware.com/git-cheatsheet.html>\n",
    "\n",
    "<br>\n",
    "\n",
    "## References\n",
    "\n",
    "**Pro Git book**, written by Scott Chacon and Ben Straub. 2014.\n",
    "\n",
    "<br>\n",
    "\n",
    "<https://git-scm.com/book/en/v2>\n",
    "\n"
   ]
  }
 ],
 "metadata": {
  "kernelspec": {
   "display_name": "Python 3 (ipykernel)",
   "language": "python",
   "name": "python3"
  },
  "language_info": {
   "codemirror_mode": {
    "name": "ipython",
    "version": 3
   },
   "file_extension": ".py",
   "mimetype": "text/x-python",
   "name": "python",
   "nbconvert_exporter": "python",
   "pygments_lexer": "ipython3",
   "version": "3.10.9"
  }
 },
 "nbformat": 4,
 "nbformat_minor": 4
}
